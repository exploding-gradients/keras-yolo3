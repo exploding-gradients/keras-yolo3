{
 "cells": [
  {
   "cell_type": "code",
   "execution_count": 12,
   "metadata": {},
   "outputs": [],
   "source": [
    "import os\n",
    "import glob\n",
    "import re"
   ]
  },
  {
   "cell_type": "code",
   "execution_count": 13,
   "metadata": {},
   "outputs": [],
   "source": [
    "ann_files = glob.glob(\"/data/tmp/toothpastes/US_toothpastes/*.txt\")"
   ]
  },
  {
   "cell_type": "code",
   "execution_count": 14,
   "metadata": {},
   "outputs": [
    {
     "name": "stdout",
     "output_type": "stream",
     "text": [
      "/data/tmp/toothpastes/US_toothpastes/P9922639_Optic_White_Stainfighter_Clean_Mint_4_2oz_Twin_Pack_RtV1-1.txt /data/tmp/toothpastes/US_toothpastes/P9922639_Optic_White_Stainfighter_Clean_Mint_4_2oz_Twin_Pack_RtV1-1.txt /data/tmp/toothpastes/US_toothpastes/P9922639_Optic_White_Stainfighter_Clean_Mint_4_2oz_Twin_Pack_RtV1-1.jpeg /data/tmp/toothpastes/US_toothpastes/P9922639_Optic_White_Stainfighter_Clean_Mint_4_2oz_Twin_Pack_RtV1-1.jpeg\n",
      "/data/tmp/toothpastes/US_toothpastes/P9922593_Enamel_Health_TP_Whitening_6oz_Carton_US.txt /data/tmp/toothpastes/US_toothpastes/P9922593_Enamel_Health_TP_Whitening_6oz_Carton_US.txt /data/tmp/toothpastes/US_toothpastes/P9922593_Enamel_Health_TP_Whitening_6oz_Carton_US.jpeg /data/tmp/toothpastes/US_toothpastes/P9922593_Enamel_Health_TP_Whitening_6oz_Carton_US.jpeg\n",
      "/data/tmp/toothpastes/US_toothpastes/P9919886_Enamel_Health_TP_Sensitive_5p5oz_Carton_US.txt /data/tmp/toothpastes/US_toothpastes/P9919886_Enamel_Health_TP_Sensitive_5p5oz_Carton_US.txt /data/tmp/toothpastes/US_toothpastes/P9919886_Enamel_Health_TP_Sensitive_5p5oz_Carton_US.jpeg /data/tmp/toothpastes/US_toothpastes/P9919886_Enamel_Health_TP_Sensitive_5p5oz_Carton_US.jpeg\n",
      "/data/tmp/toothpastes/US_toothpastes/P9919884_Enamel_Health_TP_Sensitive_4oz_Carton_US.txt /data/tmp/toothpastes/US_toothpastes/P9919884_Enamel_Health_TP_Sensitive_4oz_Carton_US.txt /data/tmp/toothpastes/US_toothpastes/P9919884_Enamel_Health_TP_Sensitive_4oz_Carton_US.jpeg /data/tmp/toothpastes/US_toothpastes/P9919884_Enamel_Health_TP_Sensitive_4oz_Carton_US.jpeg\n",
      "/data/tmp/toothpastes/US_toothpastes/P9920495_Sams_Total_Whitening_B4G1_7.8oz_5pak_Overwrap_RtV1.txt /data/tmp/toothpastes/US_toothpastes/P9920495_Sams_Total_Whitening_B4G1_7.8oz_5pak_Overwrap_RtV1.txt /data/tmp/toothpastes/US_toothpastes/P9920495_Sams_Total_Whitening_B4G1_7.8oz_5pak_Overwrap_RtV1.jpeg /data/tmp/toothpastes/US_toothpastes/P9920495_Sams_Total_Whitening_B4G1_7.8oz_5pak_Overwrap_RtV1.jpeg\n",
      "/data/tmp/toothpastes/US_toothpastes/8575_2017_Silly_Strawberry_Sample_Card_r3v2-1.txt /data/tmp/toothpastes/US_toothpastes/8575_2017_Silly_Strawberry_Sample_Card_r3v2-1.txt /data/tmp/toothpastes/US_toothpastes/8575_2017_Silly_Strawberry_Sample_Card_r3v2-1.jpeg /data/tmp/toothpastes/US_toothpastes/8575_2017_Silly_Strawberry_Sample_Card_r3v2-1.jpeg\n",
      "/data/tmp/toothpastes/US_toothpastes/P9919903_Enamel_Health_TP_Mineral_Repair_4oz_Carton_US.txt /data/tmp/toothpastes/US_toothpastes/P9919903_Enamel_Health_TP_Mineral_Repair_4oz_Carton_US.txt /data/tmp/toothpastes/US_toothpastes/P9919903_Enamel_Health_TP_Mineral_Repair_4oz_Carton_US.jpeg /data/tmp/toothpastes/US_toothpastes/P9919903_Enamel_Health_TP_Mineral_Repair_4oz_Carton_US.jpeg\n",
      "/data/tmp/toothpastes/US_toothpastes/P9918065_Total_Fresh_Mint_Gel_7p8oz_Ctn_US.txt /data/tmp/toothpastes/US_toothpastes/P9918065_Total_Fresh_Mint_Gel_7p8oz_Ctn_US.txt /data/tmp/toothpastes/US_toothpastes/P9918065_Total_Fresh_Mint_Gel_7p8oz_Ctn_US.jpeg /data/tmp/toothpastes/US_toothpastes/P9918065_Total_Fresh_Mint_Gel_7p8oz_Ctn_US.jpeg\n",
      "/data/tmp/toothpastes/US_toothpastes/P9918019_Total_Whitening_Paste_4p2oz_Ctn_US.txt /data/tmp/toothpastes/US_toothpastes/P9918019_Total_Whitening_Paste_4p2oz_Ctn_US.txt /data/tmp/toothpastes/US_toothpastes/P9918019_Total_Whitening_Paste_4p2oz_Ctn_US.jpeg /data/tmp/toothpastes/US_toothpastes/P9918019_Total_Whitening_Paste_4p2oz_Ctn_US.jpeg\n",
      "/data/tmp/toothpastes/US_toothpastes/P9921132_Total_Clean_Between_5p8oz_Ctn_US.txt /data/tmp/toothpastes/US_toothpastes/P9921132_Total_Clean_Between_5p8oz_Ctn_US.txt /data/tmp/toothpastes/US_toothpastes/P9921132_Total_Clean_Between_5p8oz_Ctn_US.jpeg /data/tmp/toothpastes/US_toothpastes/P9921132_Total_Clean_Between_5p8oz_Ctn_US.jpeg\n",
      "/data/tmp/toothpastes/US_toothpastes/19527_Total_Whitening_GEL_5pack_80118_PREVIEW.txt /data/tmp/toothpastes/US_toothpastes/19527_Total_Whitening_GEL_5pack_80118_PREVIEW.txt /data/tmp/toothpastes/US_toothpastes/19527_Total_Whitening_GEL_5pack_80118_PREVIEW.jpeg /data/tmp/toothpastes/US_toothpastes/19527_Total_Whitening_GEL_5pack_80118_PREVIEW.jpeg\n",
      "/data/tmp/toothpastes/US_toothpastes/P9922757_Enamel_Health_TP_Sensi_6oz_Carton_US_SS.txt /data/tmp/toothpastes/US_toothpastes/P9922757_Enamel_Health_TP_Sensi_6oz_Carton_US_SS.txt /data/tmp/toothpastes/US_toothpastes/P9922757_Enamel_Health_TP_Sensi_6oz_Carton_US_SS.jpeg /data/tmp/toothpastes/US_toothpastes/P9922757_Enamel_Health_TP_Sensi_6oz_Carton_US_SS.jpeg\n",
      "/data/tmp/toothpastes/US_toothpastes/19527_Colgate_WMT_Total_3Pack_Gel_P9929422_81418.txt /data/tmp/toothpastes/US_toothpastes/19527_Colgate_WMT_Total_3Pack_Gel_P9929422_81418.txt /data/tmp/toothpastes/US_toothpastes/19527_Colgate_WMT_Total_3Pack_Gel_P9929422_81418.jpeg /data/tmp/toothpastes/US_toothpastes/19527_Colgate_WMT_Total_3Pack_Gel_P9929422_81418.jpeg\n",
      "/data/tmp/toothpastes/US_toothpastes/P9922621_Enamel_Health_TP_Whitening_6oz_2PK_Carton_US.txt /data/tmp/toothpastes/US_toothpastes/P9922621_Enamel_Health_TP_Whitening_6oz_2PK_Carton_US.txt /data/tmp/toothpastes/US_toothpastes/P9922621_Enamel_Health_TP_Whitening_6oz_2PK_Carton_US.jpeg /data/tmp/toothpastes/US_toothpastes/P9922621_Enamel_Health_TP_Whitening_6oz_2PK_Carton_US.jpeg\n",
      "/data/tmp/toothpastes/US_toothpastes/P9919418_Sams_MaxFresh_7.8oz_4pk_Overwrap_UPDATE_RtV1.txt /data/tmp/toothpastes/US_toothpastes/P9919418_Sams_MaxFresh_7.8oz_4pk_Overwrap_UPDATE_RtV1.txt /data/tmp/toothpastes/US_toothpastes/P9919418_Sams_MaxFresh_7.8oz_4pk_Overwrap_UPDATE_RtV1.jpeg /data/tmp/toothpastes/US_toothpastes/P9919418_Sams_MaxFresh_7.8oz_4pk_Overwrap_UPDATE_RtV1.jpeg\n",
      "/data/tmp/toothpastes/US_toothpastes/O_PCFT_P9930689_USA_Ctn.txt /data/tmp/toothpastes/US_toothpastes/O_PCFT_P9930689_USA_Ctn.txt /data/tmp/toothpastes/US_toothpastes/O_PCFT_P9930689_USA_Ctn.jpeg /data/tmp/toothpastes/US_toothpastes/O_PCFT_P9930689_USA_Ctn.jpeg\n",
      "/data/tmp/toothpastes/US_toothpastes/P9918066_Total_Whitening_Gel_7p8oz_Ctn_US.txt /data/tmp/toothpastes/US_toothpastes/P9918066_Total_Whitening_Gel_7p8oz_Ctn_US.txt /data/tmp/toothpastes/US_toothpastes/P9918066_Total_Whitening_Gel_7p8oz_Ctn_US.jpeg /data/tmp/toothpastes/US_toothpastes/P9918066_Total_Whitening_Gel_7p8oz_Ctn_US.jpeg\n",
      "/data/tmp/toothpastes/US_toothpastes/P9921654_Total_Adv_Fresh_Whitening_0p75oz_US_Ctn.txt /data/tmp/toothpastes/US_toothpastes/P9921654_Total_Adv_Fresh_Whitening_0p75oz_US_Ctn.txt /data/tmp/toothpastes/US_toothpastes/P9921654_Total_Adv_Fresh_Whitening_0p75oz_US_Ctn.jpeg /data/tmp/toothpastes/US_toothpastes/P9921654_Total_Adv_Fresh_Whitening_0p75oz_US_Ctn.jpeg\n",
      "/data/tmp/toothpastes/US_toothpastes/O_SWLT_4_P9929335_USA_CTN.txt /data/tmp/toothpastes/US_toothpastes/O_SWLT_4_P9929335_USA_CTN.txt /data/tmp/toothpastes/US_toothpastes/O_SWLT_4_P9929335_USA_CTN.jpeg /data/tmp/toothpastes/US_toothpastes/O_SWLT_4_P9929335_USA_CTN.jpeg\n",
      "/data/tmp/toothpastes/US_toothpastes/19527_Total_ADVANCED_Whitening_5pack_80118_PREVIEW.txt /data/tmp/toothpastes/US_toothpastes/19527_Total_ADVANCED_Whitening_5pack_80118_PREVIEW.txt /data/tmp/toothpastes/US_toothpastes/19527_Total_ADVANCED_Whitening_5pack_80118_PREVIEW.jpeg /data/tmp/toothpastes/US_toothpastes/19527_Total_ADVANCED_Whitening_5pack_80118_PREVIEW.jpeg\n",
      "/data/tmp/toothpastes/US_toothpastes/O_WWT4-7_P9920328_USA_Ctn.txt /data/tmp/toothpastes/US_toothpastes/O_WWT4-7_P9920328_USA_Ctn.txt /data/tmp/toothpastes/US_toothpastes/O_WWT4-7_P9920328_USA_Ctn.jpeg /data/tmp/toothpastes/US_toothpastes/O_WWT4-7_P9920328_USA_Ctn.jpeg\n",
      "/data/tmp/toothpastes/US_toothpastes/P9919881_Enamel_Health_TP_Sensitive_0p85oz_Carton_US.txt /data/tmp/toothpastes/US_toothpastes/P9919881_Enamel_Health_TP_Sensitive_0p85oz_Carton_US.txt /data/tmp/toothpastes/US_toothpastes/P9919881_Enamel_Health_TP_Sensitive_0p85oz_Carton_US.jpeg /data/tmp/toothpastes/US_toothpastes/P9919881_Enamel_Health_TP_Sensitive_0p85oz_Carton_US.jpeg\n",
      "/data/tmp/toothpastes/US_toothpastes/[19023]P9924238_cp_PeppaPigEasterRegimen_120117.txt /data/tmp/toothpastes/US_toothpastes/[19023]P9924238_cp_PeppaPigEasterRegimen_120117.txt /data/tmp/toothpastes/US_toothpastes/[19023]P9924238_cp_PeppaPigEasterRegimen_120117.jpeg /data/tmp/toothpastes/US_toothpastes/[19023]P9924238_cp_PeppaPigEasterRegimen_120117.jpeg\n",
      "/data/tmp/toothpastes/US_toothpastes/P9922635_Total_AdvDC_5-8oz_2pak_Frnt_Lbl_RtV1_(1)-1.txt /data/tmp/toothpastes/US_toothpastes/P9922635_Total_AdvDC_5-8oz_2pak_Frnt_Lbl_RtV1_(1)-1.txt /data/tmp/toothpastes/US_toothpastes/P9922635_Total_AdvDC_5-8oz_2pak_Frnt_Lbl_RtV1_(1)-1.jpeg /data/tmp/toothpastes/US_toothpastes/P9922635_Total_AdvDC_5-8oz_2pak_Frnt_Lbl_RtV1_(1)-1.jpeg\n",
      "/data/tmp/toothpastes/US_toothpastes/P9919904_Enamel_Health_TP_Multi_Prot_7p2oz_Carton_US.txt /data/tmp/toothpastes/US_toothpastes/P9919904_Enamel_Health_TP_Multi_Prot_7p2oz_Carton_US.txt /data/tmp/toothpastes/US_toothpastes/P9919904_Enamel_Health_TP_Multi_Prot_7p2oz_Carton_US.jpeg /data/tmp/toothpastes/US_toothpastes/P9919904_Enamel_Health_TP_Multi_Prot_7p2oz_Carton_US.jpeg\n",
      "/data/tmp/toothpastes/US_toothpastes/19527_Total_Whitening_GEL_5pack_80218_PREVIEW.txt /data/tmp/toothpastes/US_toothpastes/19527_Total_Whitening_GEL_5pack_80218_PREVIEW.txt /data/tmp/toothpastes/US_toothpastes/19527_Total_Whitening_GEL_5pack_80218_PREVIEW.jpeg /data/tmp/toothpastes/US_toothpastes/19527_Total_Whitening_GEL_5pack_80218_PREVIEW.jpeg\n",
      "/data/tmp/toothpastes/US_toothpastes/P9920096_MaxFresh_Cool_Mint_7p6oz_Carton_US.txt /data/tmp/toothpastes/US_toothpastes/P9920096_MaxFresh_Cool_Mint_7p6oz_Carton_US.txt /data/tmp/toothpastes/US_toothpastes/P9920096_MaxFresh_Cool_Mint_7p6oz_Carton_US.jpeg /data/tmp/toothpastes/US_toothpastes/P9920096_MaxFresh_Cool_Mint_7p6oz_Carton_US.jpeg\n",
      "/data/tmp/toothpastes/US_toothpastes/P9919901_Enamel_Health_TP_Multi_Prot_4oz_Carton_US.txt /data/tmp/toothpastes/US_toothpastes/P9919901_Enamel_Health_TP_Multi_Prot_4oz_Carton_US.txt /data/tmp/toothpastes/US_toothpastes/P9919901_Enamel_Health_TP_Multi_Prot_4oz_Carton_US.jpeg /data/tmp/toothpastes/US_toothpastes/P9919901_Enamel_Health_TP_Multi_Prot_4oz_Carton_US.jpeg\n",
      "/data/tmp/toothpastes/US_toothpastes/P9921831_Colgate_MaxFresh_Cool_Mint_6oz_Ctn.txt /data/tmp/toothpastes/US_toothpastes/P9921831_Colgate_MaxFresh_Cool_Mint_6oz_Ctn.txt /data/tmp/toothpastes/US_toothpastes/P9921831_Colgate_MaxFresh_Cool_Mint_6oz_Ctn.jpeg /data/tmp/toothpastes/US_toothpastes/P9921831_Colgate_MaxFresh_Cool_Mint_6oz_Ctn.jpeg\n",
      "/data/tmp/toothpastes/US_toothpastes/P9920099_MaxFresh_Cool_Mint_7p6oz_Tube_US.txt /data/tmp/toothpastes/US_toothpastes/P9920099_MaxFresh_Cool_Mint_7p6oz_Tube_US.txt /data/tmp/toothpastes/US_toothpastes/P9920099_MaxFresh_Cool_Mint_7p6oz_Tube_US.jpeg /data/tmp/toothpastes/US_toothpastes/P9920099_MaxFresh_Cool_Mint_7p6oz_Tube_US.jpeg\n",
      "/data/tmp/toothpastes/US_toothpastes/19979_MaxFresh_KO_3_Pack_COMP_100418.txt /data/tmp/toothpastes/US_toothpastes/19979_MaxFresh_KO_3_Pack_COMP_100418.txt /data/tmp/toothpastes/US_toothpastes/19979_MaxFresh_KO_3_Pack_COMP_100418.jpeg /data/tmp/toothpastes/US_toothpastes/19979_MaxFresh_KO_3_Pack_COMP_100418.jpeg\n",
      "/data/tmp/toothpastes/US_toothpastes/P9921588_Walmart_Total_Whitening_PASTE_6oz_3Pack_Overwrap_RtV1.txt /data/tmp/toothpastes/US_toothpastes/P9921588_Walmart_Total_Whitening_PASTE_6oz_3Pack_Overwrap_RtV1.txt /data/tmp/toothpastes/US_toothpastes/P9921588_Walmart_Total_Whitening_PASTE_6oz_3Pack_Overwrap_RtV1.jpeg /data/tmp/toothpastes/US_toothpastes/P9921588_Walmart_Total_Whitening_PASTE_6oz_3Pack_Overwrap_RtV1.jpeg\n",
      "/data/tmp/toothpastes/US_toothpastes/19527_Colgate_Total_Clean_Mint_2PACK_Label_81518-1.txt /data/tmp/toothpastes/US_toothpastes/19527_Colgate_Total_Clean_Mint_2PACK_Label_81518-1.txt /data/tmp/toothpastes/US_toothpastes/19527_Colgate_Total_Clean_Mint_2PACK_Label_81518-1.jpeg /data/tmp/toothpastes/US_toothpastes/19527_Colgate_Total_Clean_Mint_2PACK_Label_81518-1.jpeg\n",
      "/data/tmp/toothpastes/US_toothpastes/classes.txt /data/tmp/toothpastes/US_toothpastes/classes.txt /data/tmp/toothpastes/US_toothpastes/classes.jpeg /data/tmp/toothpastes/US_toothpastes/classes.jpeg\n",
      "[Errno 2] No such file or directory: '/data/tmp/toothpastes/US_toothpastes/classes.jpeg' -> '/data/tmp/toothpastes/US_toothpastes/classes.jpeg'\n",
      "/data/tmp/toothpastes/US_toothpastes/P9922622_Enamel_Health_TP_Whitening_6oz_Tube_US.txt /data/tmp/toothpastes/US_toothpastes/P9922622_Enamel_Health_TP_Whitening_6oz_Tube_US.txt /data/tmp/toothpastes/US_toothpastes/P9922622_Enamel_Health_TP_Whitening_6oz_Tube_US.jpeg /data/tmp/toothpastes/US_toothpastes/P9922622_Enamel_Health_TP_Whitening_6oz_Tube_US.jpeg\n",
      "/data/tmp/toothpastes/US_toothpastes/P9922599_Enamel_Health_TP_MP_6oz_Carton_US.txt /data/tmp/toothpastes/US_toothpastes/P9922599_Enamel_Health_TP_MP_6oz_Carton_US.txt /data/tmp/toothpastes/US_toothpastes/P9922599_Enamel_Health_TP_MP_6oz_Carton_US.jpeg /data/tmp/toothpastes/US_toothpastes/P9922599_Enamel_Health_TP_MP_6oz_Carton_US.jpeg\n",
      "/data/tmp/toothpastes/US_toothpastes/P9918576_Total_Clean_Mint_Paste_6oz_Twin_Ctn_US.txt /data/tmp/toothpastes/US_toothpastes/P9918576_Total_Clean_Mint_Paste_6oz_Twin_Ctn_US.txt /data/tmp/toothpastes/US_toothpastes/P9918576_Total_Clean_Mint_Paste_6oz_Twin_Ctn_US.jpeg /data/tmp/toothpastes/US_toothpastes/P9918576_Total_Clean_Mint_Paste_6oz_Twin_Ctn_US.jpeg\n",
      "/data/tmp/toothpastes/US_toothpastes/P9920726_MaxFresh_7.6oz_5pack_Overwrap_RtV1.txt /data/tmp/toothpastes/US_toothpastes/P9920726_MaxFresh_7.6oz_5pack_Overwrap_RtV1.txt /data/tmp/toothpastes/US_toothpastes/P9920726_MaxFresh_7.6oz_5pack_Overwrap_RtV1.jpeg /data/tmp/toothpastes/US_toothpastes/P9920726_MaxFresh_7.6oz_5pack_Overwrap_RtV1.jpeg\n",
      "/data/tmp/toothpastes/US_toothpastes/P9922756_Enamel_Health_TP_Whitening_6oz_Carton_US_SS.txt /data/tmp/toothpastes/US_toothpastes/P9922756_Enamel_Health_TP_Whitening_6oz_Carton_US_SS.txt /data/tmp/toothpastes/US_toothpastes/P9922756_Enamel_Health_TP_Whitening_6oz_Carton_US_SS.jpeg /data/tmp/toothpastes/US_toothpastes/P9922756_Enamel_Health_TP_Whitening_6oz_Carton_US_SS.jpeg\n",
      "/data/tmp/toothpastes/US_toothpastes/P9921587_Walmart_Total_Whitening_GEL_6oz_3Pack_Overwrap_RtV1.txt /data/tmp/toothpastes/US_toothpastes/P9921587_Walmart_Total_Whitening_GEL_6oz_3Pack_Overwrap_RtV1.txt /data/tmp/toothpastes/US_toothpastes/P9921587_Walmart_Total_Whitening_GEL_6oz_3Pack_Overwrap_RtV1.jpeg /data/tmp/toothpastes/US_toothpastes/P9921587_Walmart_Total_Whitening_GEL_6oz_3Pack_Overwrap_RtV1.jpeg\n",
      "/data/tmp/toothpastes/US_toothpastes/P9922564_Hydris_TP_4p5oz_CTN_US.txt /data/tmp/toothpastes/US_toothpastes/P9922564_Hydris_TP_4p5oz_CTN_US.txt /data/tmp/toothpastes/US_toothpastes/P9922564_Hydris_TP_4p5oz_CTN_US.jpeg /data/tmp/toothpastes/US_toothpastes/P9922564_Hydris_TP_4p5oz_CTN_US.jpeg\n",
      "/data/tmp/toothpastes/US_toothpastes/P9922624_Enamel_Health_TP_MP_6oz_Tube_US.txt /data/tmp/toothpastes/US_toothpastes/P9922624_Enamel_Health_TP_MP_6oz_Tube_US.txt /data/tmp/toothpastes/US_toothpastes/P9922624_Enamel_Health_TP_MP_6oz_Tube_US.jpeg /data/tmp/toothpastes/US_toothpastes/P9922624_Enamel_Health_TP_MP_6oz_Tube_US.jpeg\n",
      "/data/tmp/toothpastes/US_toothpastes/19527_Total_Whitening_PASTE_5pack_80118_PREVIEW.txt /data/tmp/toothpastes/US_toothpastes/19527_Total_Whitening_PASTE_5pack_80118_PREVIEW.txt /data/tmp/toothpastes/US_toothpastes/19527_Total_Whitening_PASTE_5pack_80118_PREVIEW.jpeg /data/tmp/toothpastes/US_toothpastes/19527_Total_Whitening_PASTE_5pack_80118_PREVIEW.jpeg\n",
      "/data/tmp/toothpastes/US_toothpastes/P9922566_Hydris_TP_4p5oz_Tube_US.txt /data/tmp/toothpastes/US_toothpastes/P9922566_Hydris_TP_4p5oz_Tube_US.txt /data/tmp/toothpastes/US_toothpastes/P9922566_Hydris_TP_4p5oz_Tube_US.jpeg /data/tmp/toothpastes/US_toothpastes/P9922566_Hydris_TP_4p5oz_Tube_US.jpeg\n",
      "/data/tmp/toothpastes/US_toothpastes/P9920506_Sams_Total_Whitening_Paste_7.8oz_4pak_OW_RtV1.txt /data/tmp/toothpastes/US_toothpastes/P9920506_Sams_Total_Whitening_Paste_7.8oz_4pak_OW_RtV1.txt /data/tmp/toothpastes/US_toothpastes/P9920506_Sams_Total_Whitening_Paste_7.8oz_4pak_OW_RtV1.jpeg /data/tmp/toothpastes/US_toothpastes/P9920506_Sams_Total_Whitening_Paste_7.8oz_4pak_OW_RtV1.jpeg\n",
      "/data/tmp/toothpastes/US_toothpastes/[19515]P9926951_cp_KidsMinionsRegimenRevised_032218.txt /data/tmp/toothpastes/US_toothpastes/[19515]P9926951_cp_KidsMinionsRegimenRevised_032218.txt /data/tmp/toothpastes/US_toothpastes/[19515]P9926951_cp_KidsMinionsRegimenRevised_032218.jpeg /data/tmp/toothpastes/US_toothpastes/[19515]P9926951_cp_KidsMinionsRegimenRevised_032218.jpeg\n",
      "/data/tmp/toothpastes/US_toothpastes/P9919902_Enamel_Health_TP_Whitening_1p8oz_Carton_US.txt /data/tmp/toothpastes/US_toothpastes/P9919902_Enamel_Health_TP_Whitening_1p8oz_Carton_US.txt /data/tmp/toothpastes/US_toothpastes/P9919902_Enamel_Health_TP_Whitening_1p8oz_Carton_US.jpeg /data/tmp/toothpastes/US_toothpastes/P9919902_Enamel_Health_TP_Whitening_1p8oz_Carton_US.jpeg\n",
      "/data/tmp/toothpastes/US_toothpastes/19527_Colgate_WMT_Total_3Pack_PASTE_P9929424_81418.txt /data/tmp/toothpastes/US_toothpastes/19527_Colgate_WMT_Total_3Pack_PASTE_P9929424_81418.txt /data/tmp/toothpastes/US_toothpastes/19527_Colgate_WMT_Total_3Pack_PASTE_P9929424_81418.jpeg /data/tmp/toothpastes/US_toothpastes/19527_Colgate_WMT_Total_3Pack_PASTE_P9929424_81418.jpeg\n",
      "/data/tmp/toothpastes/US_toothpastes/P9921652_Total_Clean_Mint_Paste_p75oz_Ctn_US.txt /data/tmp/toothpastes/US_toothpastes/P9921652_Total_Clean_Mint_Paste_p75oz_Ctn_US.txt /data/tmp/toothpastes/US_toothpastes/P9921652_Total_Clean_Mint_Paste_p75oz_Ctn_US.jpeg /data/tmp/toothpastes/US_toothpastes/P9921652_Total_Clean_Mint_Paste_p75oz_Ctn_US.jpeg\n",
      "/data/tmp/toothpastes/US_toothpastes/P9921659_Total_Whitening_Paste_1p9oz_Ctn_US.txt /data/tmp/toothpastes/US_toothpastes/P9921659_Total_Whitening_Paste_1p9oz_Ctn_US.txt /data/tmp/toothpastes/US_toothpastes/P9921659_Total_Whitening_Paste_1p9oz_Ctn_US.jpeg /data/tmp/toothpastes/US_toothpastes/P9921659_Total_Whitening_Paste_1p9oz_Ctn_US.jpeg\n",
      "/data/tmp/toothpastes/US_toothpastes/P9921861_OW_IcyFresh_5oz_TwinPak_FrntLbl_RtV1-1.txt /data/tmp/toothpastes/US_toothpastes/P9921861_OW_IcyFresh_5oz_TwinPak_FrntLbl_RtV1-1.txt /data/tmp/toothpastes/US_toothpastes/P9921861_OW_IcyFresh_5oz_TwinPak_FrntLbl_RtV1-1.jpeg /data/tmp/toothpastes/US_toothpastes/P9921861_OW_IcyFresh_5oz_TwinPak_FrntLbl_RtV1-1.jpeg\n",
      "/data/tmp/toothpastes/US_toothpastes/P9921830_Colgate_MaxFresh_Clean_Mint_6oz_Ctn.txt /data/tmp/toothpastes/US_toothpastes/P9921830_Colgate_MaxFresh_Clean_Mint_6oz_Ctn.txt /data/tmp/toothpastes/US_toothpastes/P9921830_Colgate_MaxFresh_Clean_Mint_6oz_Ctn.jpeg /data/tmp/toothpastes/US_toothpastes/P9921830_Colgate_MaxFresh_Clean_Mint_6oz_Ctn.jpeg\n",
      "/data/tmp/toothpastes/US_toothpastes/P9917807_Total_Daily_Repair_4oz_Ctn_US.txt /data/tmp/toothpastes/US_toothpastes/P9917807_Total_Daily_Repair_4oz_Ctn_US.txt /data/tmp/toothpastes/US_toothpastes/P9917807_Total_Daily_Repair_4oz_Ctn_US.jpeg /data/tmp/toothpastes/US_toothpastes/P9917807_Total_Daily_Repair_4oz_Ctn_US.jpeg\n",
      "/data/tmp/toothpastes/US_toothpastes/P9921134_Total_Clean_Between_4oz_Ctn_US.txt /data/tmp/toothpastes/US_toothpastes/P9921134_Total_Clean_Between_4oz_Ctn_US.txt /data/tmp/toothpastes/US_toothpastes/P9921134_Total_Clean_Between_4oz_Ctn_US.jpeg /data/tmp/toothpastes/US_toothpastes/P9921134_Total_Clean_Between_4oz_Ctn_US.jpeg\n",
      "/data/tmp/toothpastes/US_toothpastes/[18980]cp_KidsTrollsMinionsEasterRegimen_120117-1.txt /data/tmp/toothpastes/US_toothpastes/[18980]cp_KidsTrollsMinionsEasterRegimen_120117-1.txt /data/tmp/toothpastes/US_toothpastes/[18980]cp_KidsTrollsMinionsEasterRegimen_120117-1.jpeg /data/tmp/toothpastes/US_toothpastes/[18980]cp_KidsTrollsMinionsEasterRegimen_120117-1.jpeg\n",
      "/data/tmp/toothpastes/US_toothpastes/[18980]cp_KidsTrollsMinionsEasterRegimen_120117-0.txt /data/tmp/toothpastes/US_toothpastes/[18980]cp_KidsTrollsMinionsEasterRegimen_120117-0.txt /data/tmp/toothpastes/US_toothpastes/[18980]cp_KidsTrollsMinionsEasterRegimen_120117-0.jpeg /data/tmp/toothpastes/US_toothpastes/[18980]cp_KidsTrollsMinionsEasterRegimen_120117-0.jpeg\n",
      "/data/tmp/toothpastes/US_toothpastes/P9919882_Enamel_Health_TP_Whitening_4oz_Carton_US.txt /data/tmp/toothpastes/US_toothpastes/P9919882_Enamel_Health_TP_Whitening_4oz_Carton_US.txt /data/tmp/toothpastes/US_toothpastes/P9919882_Enamel_Health_TP_Whitening_4oz_Carton_US.jpeg /data/tmp/toothpastes/US_toothpastes/P9919882_Enamel_Health_TP_Whitening_4oz_Carton_US.jpeg\n",
      "/data/tmp/toothpastes/US_toothpastes/19527_Colgate_WMT_Total_3Pack_CleanMintPASTE_P9929990_81418.txt /data/tmp/toothpastes/US_toothpastes/19527_Colgate_WMT_Total_3Pack_CleanMintPASTE_P9929990_81418.txt /data/tmp/toothpastes/US_toothpastes/19527_Colgate_WMT_Total_3Pack_CleanMintPASTE_P9929990_81418.jpeg /data/tmp/toothpastes/US_toothpastes/19527_Colgate_WMT_Total_3Pack_CleanMintPASTE_P9929990_81418.jpeg\n",
      "/data/tmp/toothpastes/US_toothpastes/P9922632_MaxClean_Mint_TP_Twin_Pack_Label-RTV1-1.txt /data/tmp/toothpastes/US_toothpastes/P9922632_MaxClean_Mint_TP_Twin_Pack_Label-RTV1-1.txt /data/tmp/toothpastes/US_toothpastes/P9922632_MaxClean_Mint_TP_Twin_Pack_Label-RTV1-1.jpeg /data/tmp/toothpastes/US_toothpastes/P9922632_MaxClean_Mint_TP_Twin_Pack_Label-RTV1-1.jpeg\n",
      "/data/tmp/toothpastes/US_toothpastes/P9917805_Total_Daily_Repair_5p8oz_Ctn_US.txt /data/tmp/toothpastes/US_toothpastes/P9917805_Total_Daily_Repair_5p8oz_Ctn_US.txt /data/tmp/toothpastes/US_toothpastes/P9917805_Total_Daily_Repair_5p8oz_Ctn_US.jpeg /data/tmp/toothpastes/US_toothpastes/P9917805_Total_Daily_Repair_5p8oz_Ctn_US.jpeg\n",
      "/data/tmp/toothpastes/US_toothpastes/P9922758_Enamel_Health_TP_MP_6oz_Carton_US_SS.txt /data/tmp/toothpastes/US_toothpastes/P9922758_Enamel_Health_TP_MP_6oz_Carton_US_SS.txt /data/tmp/toothpastes/US_toothpastes/P9922758_Enamel_Health_TP_MP_6oz_Carton_US_SS.jpeg /data/tmp/toothpastes/US_toothpastes/P9922758_Enamel_Health_TP_MP_6oz_Carton_US_SS.jpeg\n",
      "/data/tmp/toothpastes/US_toothpastes/O_PWLT1_075_P9930946_USA_CTN.txt /data/tmp/toothpastes/US_toothpastes/O_PWLT1_075_P9930946_USA_CTN.txt /data/tmp/toothpastes/US_toothpastes/O_PWLT1_075_P9930946_USA_CTN.jpeg /data/tmp/toothpastes/US_toothpastes/O_PWLT1_075_P9930946_USA_CTN.jpeg\n",
      "/data/tmp/toothpastes/US_toothpastes/P9922999_Wal_OW_HighImpact_TP_ActisTBpen_BeautyBox_RtV1.txt /data/tmp/toothpastes/US_toothpastes/P9922999_Wal_OW_HighImpact_TP_ActisTBpen_BeautyBox_RtV1.txt /data/tmp/toothpastes/US_toothpastes/P9922999_Wal_OW_HighImpact_TP_ActisTBpen_BeautyBox_RtV1.jpeg /data/tmp/toothpastes/US_toothpastes/P9922999_Wal_OW_HighImpact_TP_ActisTBpen_BeautyBox_RtV1.jpeg\n",
      "/data/tmp/toothpastes/US_toothpastes/P9919887_Enamel_Health_TP_Whitening_0p85oz_Carton_US.txt /data/tmp/toothpastes/US_toothpastes/P9919887_Enamel_Health_TP_Whitening_0p85oz_Carton_US.txt /data/tmp/toothpastes/US_toothpastes/P9919887_Enamel_Health_TP_Whitening_0p85oz_Carton_US.jpeg /data/tmp/toothpastes/US_toothpastes/P9919887_Enamel_Health_TP_Whitening_0p85oz_Carton_US.jpeg\n",
      "/data/tmp/toothpastes/US_toothpastes/P9919883_Enamel_Health_TP_Whitening_5p5oz_Carton_US.txt /data/tmp/toothpastes/US_toothpastes/P9919883_Enamel_Health_TP_Whitening_5p5oz_Carton_US.txt /data/tmp/toothpastes/US_toothpastes/P9919883_Enamel_Health_TP_Whitening_5p5oz_Carton_US.jpeg /data/tmp/toothpastes/US_toothpastes/P9919883_Enamel_Health_TP_Whitening_5p5oz_Carton_US.jpeg\n",
      "/data/tmp/toothpastes/US_toothpastes/19527_Colgate_Total_Whitening_Paste_2PACK_Label_81518-1.txt /data/tmp/toothpastes/US_toothpastes/19527_Colgate_Total_Whitening_Paste_2PACK_Label_81518-1.txt /data/tmp/toothpastes/US_toothpastes/19527_Colgate_Total_Whitening_Paste_2PACK_Label_81518-1.jpeg /data/tmp/toothpastes/US_toothpastes/19527_Colgate_Total_Whitening_Paste_2PACK_Label_81518-1.jpeg\n",
      "/data/tmp/toothpastes/US_toothpastes/P9922747_Walmart_Ultrabrite_TP_6oz_Reg_2pk_RtV1-1.txt /data/tmp/toothpastes/US_toothpastes/P9922747_Walmart_Ultrabrite_TP_6oz_Reg_2pk_RtV1-1.txt /data/tmp/toothpastes/US_toothpastes/P9922747_Walmart_Ultrabrite_TP_6oz_Reg_2pk_RtV1-1.jpeg /data/tmp/toothpastes/US_toothpastes/P9922747_Walmart_Ultrabrite_TP_6oz_Reg_2pk_RtV1-1.jpeg\n",
      "/data/tmp/toothpastes/US_toothpastes/P9922598_Enamel_Health_TP_Sensi_6oz_Carton_US.txt /data/tmp/toothpastes/US_toothpastes/P9922598_Enamel_Health_TP_Sensi_6oz_Carton_US.txt /data/tmp/toothpastes/US_toothpastes/P9922598_Enamel_Health_TP_Sensi_6oz_Carton_US.jpeg /data/tmp/toothpastes/US_toothpastes/P9922598_Enamel_Health_TP_Sensi_6oz_Carton_US.jpeg\n",
      "/data/tmp/toothpastes/US_toothpastes/P9921133_Total_Clean_Between_0p75oz_Ctn_US.txt /data/tmp/toothpastes/US_toothpastes/P9921133_Total_Clean_Between_0p75oz_Ctn_US.txt /data/tmp/toothpastes/US_toothpastes/P9921133_Total_Clean_Between_0p75oz_Ctn_US.jpeg /data/tmp/toothpastes/US_toothpastes/P9921133_Total_Clean_Between_0p75oz_Ctn_US.jpeg\n",
      "/data/tmp/toothpastes/US_toothpastes/19979_MaxClean_SmartFoam_3_Pack_Overwrap_100418.txt /data/tmp/toothpastes/US_toothpastes/19979_MaxClean_SmartFoam_3_Pack_Overwrap_100418.txt /data/tmp/toothpastes/US_toothpastes/19979_MaxClean_SmartFoam_3_Pack_Overwrap_100418.jpeg /data/tmp/toothpastes/US_toothpastes/19979_MaxClean_SmartFoam_3_Pack_Overwrap_100418.jpeg\n",
      "/data/tmp/toothpastes/US_toothpastes/20055_Costco_Optic_White_Sustainable_Pack_110518.txt /data/tmp/toothpastes/US_toothpastes/20055_Costco_Optic_White_Sustainable_Pack_110518.txt /data/tmp/toothpastes/US_toothpastes/20055_Costco_Optic_White_Sustainable_Pack_110518.jpeg /data/tmp/toothpastes/US_toothpastes/20055_Costco_Optic_White_Sustainable_Pack_110518.jpeg\n",
      "/data/tmp/toothpastes/US_toothpastes/O_PWGT4-7_P9927168_USA_Ctn.txt /data/tmp/toothpastes/US_toothpastes/O_PWGT4-7_P9927168_USA_Ctn.txt /data/tmp/toothpastes/US_toothpastes/O_PWGT4-7_P9927168_USA_Ctn.jpeg /data/tmp/toothpastes/US_toothpastes/O_PWGT4-7_P9927168_USA_Ctn.jpeg\n",
      "/data/tmp/toothpastes/US_toothpastes/P9922625_Enamel_Health_TP_Whitening_p85oz_Tube_US.txt /data/tmp/toothpastes/US_toothpastes/P9922625_Enamel_Health_TP_Whitening_p85oz_Tube_US.txt /data/tmp/toothpastes/US_toothpastes/P9922625_Enamel_Health_TP_Whitening_p85oz_Tube_US.jpeg /data/tmp/toothpastes/US_toothpastes/P9922625_Enamel_Health_TP_Whitening_p85oz_Tube_US.jpeg\n",
      "/data/tmp/toothpastes/US_toothpastes/P9918016_Total_Clean_Mint_Paste_1p9oz_Ctn_US.txt /data/tmp/toothpastes/US_toothpastes/P9918016_Total_Clean_Mint_Paste_1p9oz_Ctn_US.txt /data/tmp/toothpastes/US_toothpastes/P9918016_Total_Clean_Mint_Paste_1p9oz_Ctn_US.jpeg /data/tmp/toothpastes/US_toothpastes/P9918016_Total_Clean_Mint_Paste_1p9oz_Ctn_US.jpeg\n",
      "/data/tmp/toothpastes/US_toothpastes/P9922759_Enamel_Health_TP_Whitening_6oz_2PK_Carton_US_SS.txt /data/tmp/toothpastes/US_toothpastes/P9922759_Enamel_Health_TP_Whitening_6oz_2PK_Carton_US_SS.txt /data/tmp/toothpastes/US_toothpastes/P9922759_Enamel_Health_TP_Whitening_6oz_2PK_Carton_US_SS.jpeg /data/tmp/toothpastes/US_toothpastes/P9922759_Enamel_Health_TP_Whitening_6oz_2PK_Carton_US_SS.jpeg\n",
      "/data/tmp/toothpastes/US_toothpastes/19527_Colgate_Total_Daily_Repair_2Pack_label_81518-1.txt /data/tmp/toothpastes/US_toothpastes/19527_Colgate_Total_Daily_Repair_2Pack_label_81518-1.txt /data/tmp/toothpastes/US_toothpastes/19527_Colgate_Total_Daily_Repair_2Pack_label_81518-1.jpeg /data/tmp/toothpastes/US_toothpastes/19527_Colgate_Total_Daily_Repair_2Pack_label_81518-1.jpeg\n"
     ]
    }
   ],
   "source": [
    "for ann in ann_files:\n",
    "    try:\n",
    "        ann_new = re.sub(\"\\s+\", \"_\", ann)\n",
    "        jpeg_old = re.sub(\".txt\", \".jpeg\", ann)\n",
    "        jpeg_new = re.sub(\"\\s+\", \"_\", jpeg_old)\n",
    "        print(ann, ann_new, jpeg_old, jpeg_new)\n",
    "        os.rename(ann, ann_new)\n",
    "        os.rename(jpeg_old, jpeg_new)\n",
    "    except Exception as e:\n",
    "        print(e)"
   ]
  },
  {
   "cell_type": "code",
   "execution_count": 15,
   "metadata": {},
   "outputs": [],
   "source": [
    "for jpeg in glob.glob(\"/data/tmp/toothpastes/US_toothpastes/*.jpeg\"):\n",
    "    try:\n",
    "        jpeg_new = re.sub(\"\\s+\", \"_\", jpeg)\n",
    "        os.rename(jpeg, jpeg_new)\n",
    "    except Exception as e:\n",
    "        print(e)"
   ]
  },
  {
   "cell_type": "code",
   "execution_count": null,
   "metadata": {},
   "outputs": [],
   "source": []
  }
 ],
 "metadata": {
  "kernelspec": {
   "display_name": "Python 3",
   "language": "python",
   "name": "python3"
  },
  "language_info": {
   "codemirror_mode": {
    "name": "ipython",
    "version": 3
   },
   "file_extension": ".py",
   "mimetype": "text/x-python",
   "name": "python",
   "nbconvert_exporter": "python",
   "pygments_lexer": "ipython3",
   "version": "3.5.2"
  }
 },
 "nbformat": 4,
 "nbformat_minor": 2
}
